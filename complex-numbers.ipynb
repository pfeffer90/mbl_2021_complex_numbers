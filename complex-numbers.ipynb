{
 "cells": [
  {
   "cell_type": "markdown",
   "id": "valuable-framing",
   "metadata": {},
   "source": [
    "# Rechnen mit komplexen Zahlen"
   ]
  },
  {
   "cell_type": "code",
   "execution_count": 1,
   "id": "instructional-foundation",
   "metadata": {},
   "outputs": [],
   "source": [
    "import numpy as np"
   ]
  },
  {
   "cell_type": "code",
   "execution_count": 2,
   "id": "likely-indie",
   "metadata": {},
   "outputs": [
    {
     "name": "stderr",
     "output_type": "stream",
     "text": [
      "/home/pfeiffer/Applications/miniconda2/envs/mbl/lib/python3.7/site-packages/ipykernel_launcher.py:1: RuntimeWarning: invalid value encountered in sqrt\n",
      "  \"\"\"Entry point for launching an IPython kernel.\n"
     ]
    },
    {
     "data": {
      "text/plain": [
       "nan"
      ]
     },
     "execution_count": 2,
     "metadata": {},
     "output_type": "execute_result"
    }
   ],
   "source": [
    "np.sqrt(-1)"
   ]
  },
  {
   "cell_type": "markdown",
   "id": "light-telephone",
   "metadata": {},
   "source": [
    "In Python heißt die imaginäre Zahl \"j\". Um Python zu sagen, dass wir bereit sind mit komplexen Zahlen zu rechnen, müssen wir explizit mit einer komplexen Zahl beginnen."
   ]
  },
  {
   "cell_type": "code",
   "execution_count": 3,
   "id": "collective-procurement",
   "metadata": {},
   "outputs": [
    {
     "data": {
      "text/plain": [
       "1j"
      ]
     },
     "execution_count": 3,
     "metadata": {},
     "output_type": "execute_result"
    }
   ],
   "source": [
    "np.sqrt(-1+0j)"
   ]
  },
  {
   "cell_type": "markdown",
   "id": "swedish-dispatch",
   "metadata": {},
   "source": [
    "## Addition und Subtraktion"
   ]
  },
  {
   "cell_type": "code",
   "execution_count": 4,
   "id": "human-temple",
   "metadata": {},
   "outputs": [],
   "source": [
    "z1 = 1 + 2j\n",
    "z2 = 2 +1j"
   ]
  },
  {
   "cell_type": "code",
   "execution_count": 7,
   "id": "handled-crime",
   "metadata": {},
   "outputs": [
    {
     "data": {
      "text/plain": [
       "1.0"
      ]
     },
     "execution_count": 7,
     "metadata": {},
     "output_type": "execute_result"
    }
   ],
   "source": [
    "np.real(z1)"
   ]
  },
  {
   "cell_type": "code",
   "execution_count": 6,
   "id": "primary-computer",
   "metadata": {},
   "outputs": [
    {
     "data": {
      "text/plain": [
       "2.0"
      ]
     },
     "execution_count": 6,
     "metadata": {},
     "output_type": "execute_result"
    }
   ],
   "source": [
    "np.imag(z1)"
   ]
  }
 ],
 "metadata": {
  "kernelspec": {
   "display_name": "Python 3",
   "language": "python",
   "name": "python3"
  },
  "language_info": {
   "codemirror_mode": {
    "name": "ipython",
    "version": 3
   },
   "file_extension": ".py",
   "mimetype": "text/x-python",
   "name": "python",
   "nbconvert_exporter": "python",
   "pygments_lexer": "ipython3",
   "version": "3.7.9"
  }
 },
 "nbformat": 4,
 "nbformat_minor": 5
}
