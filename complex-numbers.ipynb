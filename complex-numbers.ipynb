{
 "cells": [
  {
   "cell_type": "markdown",
   "id": "stretch-warehouse",
   "metadata": {},
   "source": [
    "Die folgenden Beispiele sind in der Programmiersprache [Python](https://www.python.org/). Um dich hier im Notebook zurecht zu finden, kurz die Essentials:\n",
    "* Bearbeitungsmodus: Enter (jetzt sollte sich der Balken an der Zelle grün färben und ein Cursor erscheint in der Zelle)\n",
    "* Ausführungsmodus: Esc (jetzt sollte sich der Balken an der Zelle blau färben, kein Cursor)\n",
    "\n",
    "Im Ausführungsmodus:\n",
    "\n",
    "* Navigation per Pfeiltasten\n",
    "* Ausführen einer Zelle `Shift+Enter`\n",
    "* Neue Zelle: `b`\n",
    "* Umwandeln der Zelle in Textzelle: `m`\n",
    "* Umwandeln in Codezelle: `y`"
   ]
  },
  {
   "cell_type": "markdown",
   "id": "exposed-government",
   "metadata": {},
   "source": [
    "Mehr über Jupyter gibt es [hier](https://jupyter.org/)."
   ]
  },
  {
   "cell_type": "markdown",
   "id": "wireless-cement",
   "metadata": {},
   "source": [
    "# Komplexe Zahlen"
   ]
  },
  {
   "cell_type": "code",
   "execution_count": null,
   "id": "rocky-library",
   "metadata": {},
   "outputs": [],
   "source": [
    "import numpy as np"
   ]
  },
  {
   "cell_type": "markdown",
   "id": "ready-vinyl",
   "metadata": {},
   "source": [
    "# $\\sqrt{-1}$"
   ]
  },
  {
   "cell_type": "markdown",
   "id": "personalized-pattern",
   "metadata": {},
   "source": [
    "Python, was ist die Wurzel aus -1?"
   ]
  },
  {
   "cell_type": "code",
   "execution_count": null,
   "id": "stuck-weight",
   "metadata": {},
   "outputs": [],
   "source": [
    "np.sqrt(-1)"
   ]
  },
  {
   "cell_type": "markdown",
   "id": "exceptional-mileage",
   "metadata": {},
   "source": [
    "Aha...\n",
    "\n",
    "In Python heißt die imaginäre Zahl \"j\". Um Python zu sagen, dass wir bereit sind mit komplexen Zahlen zu rechnen, müssen wir die Wurzelfunktion explizit mit einer komplexen Zahl aufrufen."
   ]
  },
  {
   "cell_type": "code",
   "execution_count": null,
   "id": "japanese-ebony",
   "metadata": {},
   "outputs": [],
   "source": [
    "np.sqrt(-1+0j)"
   ]
  },
  {
   "cell_type": "markdown",
   "id": "tough-destruction",
   "metadata": {},
   "source": [
    "# $\\arg{i} = \\frac{\\pi}{2}$"
   ]
  },
  {
   "cell_type": "code",
   "execution_count": null,
   "id": "disabled-player",
   "metadata": {},
   "outputs": [],
   "source": [
    "z1 = 1 + 2j\n",
    "z2 = 2 +1j"
   ]
  },
  {
   "cell_type": "markdown",
   "id": "freelance-radar",
   "metadata": {},
   "source": [
    "Numpy kann uns Realteil und Imaginärteil einer komplexen Zahl zurückgeben."
   ]
  },
  {
   "cell_type": "code",
   "execution_count": null,
   "id": "brazilian-suffering",
   "metadata": {},
   "outputs": [],
   "source": [
    "np.real(z1)"
   ]
  },
  {
   "cell_type": "code",
   "execution_count": null,
   "id": "short-authority",
   "metadata": {},
   "outputs": [],
   "source": [
    "np.imag(z1)"
   ]
  },
  {
   "cell_type": "markdown",
   "id": "empty-damages",
   "metadata": {},
   "source": [
    "Gaußsche Zahlenebene - um eine Figur zu erstellen importieren wir matplotlib, eine populäre plotting library für Python. "
   ]
  },
  {
   "cell_type": "code",
   "execution_count": null,
   "id": "hired-dynamics",
   "metadata": {},
   "outputs": [],
   "source": [
    "import matplotlib.pyplot as plt"
   ]
  },
  {
   "cell_type": "code",
   "execution_count": null,
   "id": "dental-emerald",
   "metadata": {},
   "outputs": [],
   "source": [
    "fig, ax = plt.subplots(1,1)"
   ]
  },
  {
   "cell_type": "markdown",
   "id": "natural-moldova",
   "metadata": {},
   "source": [
    "Ui, da basteln wir uns doch lieber ein schönes Standardachsenset. Oder googeln [kurz](https://github.com/matplotlib/matplotlib/issues/17157)."
   ]
  },
  {
   "cell_type": "markdown",
   "id": "numeric-malaysia",
   "metadata": {},
   "source": [
    "Schönes Koordinatensystem"
   ]
  },
  {
   "cell_type": "code",
   "execution_count": null,
   "id": "oriental-resistance",
   "metadata": {},
   "outputs": [],
   "source": [
    "def coordinate_system(xlims=(-4,4), ylims=(-4,4)):\n",
    "    rc = {\"xtick.direction\" : \"inout\", \"ytick.direction\" : \"inout\",\n",
    "          \"xtick.major.size\" : 5, \"ytick.major.size\" : 5,}\n",
    "    with plt.rc_context(rc):\n",
    "        fig, ax = plt.subplots(figsize=(5,5))\n",
    "\n",
    "        ax.spines['left'].set_position('zero')\n",
    "        ax.spines['right'].set_visible(False)\n",
    "        ax.spines['bottom'].set_position('zero')\n",
    "        ax.spines['top'].set_visible(False)\n",
    "        ax.xaxis.set_ticks_position('bottom')\n",
    "        ax.yaxis.set_ticks_position('left')\n",
    "\n",
    "        # make arrows\n",
    "        ax.plot((1), (0), ls=\"\", marker=\">\", ms=10, color=\"k\",\n",
    "                transform=ax.get_yaxis_transform(), clip_on=False)\n",
    "        ax.plot((0), (1), ls=\"\", marker=\"^\", ms=10, color=\"k\",\n",
    "                transform=ax.get_xaxis_transform(), clip_on=False)\n",
    "        ax.set_xlim(xlims)\n",
    "        ax.set_ylim(ylims)\n",
    "        ax.set_xlabel(r'$\\mathrm{Re(z)}$')\n",
    "        ax.xaxis.set_label_coords(1, 0.45)\n",
    "        \n",
    "        ax.set_ylabel(r'$\\mathrm{Im(z)}$', rotation=0)\n",
    "        ax.yaxis.set_label_coords(0.4, 1)\n",
    "    return fig, ax"
   ]
  },
  {
   "cell_type": "markdown",
   "id": "technological-desert",
   "metadata": {},
   "source": [
    "Eine Darstellung einer komplexen Zahl als Pfeil."
   ]
  },
  {
   "cell_type": "code",
   "execution_count": null,
   "id": "expected-parks",
   "metadata": {},
   "outputs": [],
   "source": [
    "def plot_complex_number(z, ax, label=None):\n",
    "    ax.arrow(0, 0, np.real(z), np.imag(z), head_width=0.1)\n",
    "    if label is not None:\n",
    "        ax.annotate( label, (np.real(z), np.imag(z)), va=\"bottom\", fontsize=12, xytext=(4,4), textcoords=\"offset points\")"
   ]
  },
  {
   "cell_type": "code",
   "execution_count": null,
   "id": "vanilla-gravity",
   "metadata": {},
   "outputs": [],
   "source": [
    "fig, ax = coordinate_system()\n",
    "plot_complex_number(z1, ax, \"$z_1$\")\n",
    "plot_complex_number(z2, ax, \"$z_2$\")\n",
    "plot_complex_number(z1+z2, ax, \"$z_1+z_2$\")"
   ]
  },
  {
   "cell_type": "markdown",
   "id": "simple-occasions",
   "metadata": {},
   "source": [
    "In der Vorlesung haben wir auch die Polarkoordinatendarstellung kennengelernt. Über Numpy können wir uns Betrag und Argument einer komplexen Zahl ausgeben lassen."
   ]
  },
  {
   "cell_type": "code",
   "execution_count": null,
   "id": "sonic-jesus",
   "metadata": {},
   "outputs": [],
   "source": [
    "np.absolute(1j)"
   ]
  },
  {
   "cell_type": "code",
   "execution_count": null,
   "id": "indie-brunei",
   "metadata": {},
   "outputs": [],
   "source": [
    "np.angle(1j)"
   ]
  },
  {
   "cell_type": "markdown",
   "id": "chicken-pharmacy",
   "metadata": {},
   "source": [
    "# $\\frac{i-1}{i+1}=i$"
   ]
  },
  {
   "cell_type": "markdown",
   "id": "brave-lucas",
   "metadata": {},
   "source": [
    "Lassen wir das doch mal von Python ausrechnen."
   ]
  },
  {
   "cell_type": "code",
   "execution_count": null,
   "id": "excessive-florida",
   "metadata": {},
   "outputs": [],
   "source": [
    "z1 = 1j-1\n",
    "z2 = 1j+1"
   ]
  },
  {
   "cell_type": "code",
   "execution_count": null,
   "id": "partial-mainland",
   "metadata": {},
   "outputs": [],
   "source": [
    "z1/z2"
   ]
  },
  {
   "cell_type": "markdown",
   "id": "working-facial",
   "metadata": {},
   "source": [
    "Wir können dieses Verhältnis auch grafisch verstehen. "
   ]
  },
  {
   "cell_type": "code",
   "execution_count": null,
   "id": "excessive-diana",
   "metadata": {},
   "outputs": [],
   "source": [
    "fig, ax = coordinate_system((-2.5, 2.5), (-2.5, 2.5))\n",
    "plot_complex_number(z1, ax, \"$i-1$\")\n",
    "plot_complex_number(z2, ax, \"$i+1$\")\n",
    "plot_complex_number(z1/z2, ax, \"$\\\\frac{i-1}{i+1}$\")"
   ]
  },
  {
   "cell_type": "markdown",
   "id": "amber-establishment",
   "metadata": {},
   "source": [
    "__Drehung__: Der Zähler $i-1$ wird um den Winkel des Nenners $i+1$ im Uhzeigersinn gedreht. (In der Mathematik entspricht ein positiver Winkel, einem Drehen gegen den Uhrzeigersinn. Damit ein negativer Winkel also einem Drehen im Uhrzeigersinn.) "
   ]
  },
  {
   "cell_type": "code",
   "execution_count": null,
   "id": "ready-context",
   "metadata": {},
   "outputs": [],
   "source": [
    "np.angle(z1, deg=True)"
   ]
  },
  {
   "cell_type": "code",
   "execution_count": null,
   "id": "interim-musician",
   "metadata": {},
   "outputs": [],
   "source": [
    "np.angle(z2, deg=True)"
   ]
  },
  {
   "cell_type": "code",
   "execution_count": null,
   "id": "registered-sitting",
   "metadata": {},
   "outputs": [],
   "source": [
    "np.angle(z1, deg=True)-np.angle(z2, deg=True)"
   ]
  },
  {
   "cell_type": "markdown",
   "id": "prospective-glasgow",
   "metadata": {},
   "source": [
    "__Streckung__: Beide Zahlen haben den selben Betrag (gleiche Länge). Damit hat das Ergebnis Länge 1."
   ]
  },
  {
   "cell_type": "markdown",
   "id": "equivalent-tomorrow",
   "metadata": {},
   "source": [
    "# $i^i$"
   ]
  },
  {
   "cell_type": "code",
   "execution_count": null,
   "id": "together-research",
   "metadata": {},
   "outputs": [],
   "source": [
    "z1 = 1j+2"
   ]
  },
  {
   "cell_type": "code",
   "execution_count": null,
   "id": "focal-hopkins",
   "metadata": {},
   "outputs": [],
   "source": [
    "z1"
   ]
  },
  {
   "cell_type": "markdown",
   "id": "saving-screw",
   "metadata": {},
   "source": [
    "Exponentialdarstellung: $z =\\|z\\| e^{i\\arg(z)}$. Probieren, wir das doch mal aus."
   ]
  },
  {
   "cell_type": "code",
   "execution_count": null,
   "id": "geological-glucose",
   "metadata": {},
   "outputs": [],
   "source": [
    "np.absolute(z1)*np.exp(1j*np.angle(z1))"
   ]
  },
  {
   "cell_type": "code",
   "execution_count": null,
   "id": "stunning-wrestling",
   "metadata": {},
   "outputs": [],
   "source": [
    "1j**(1j)"
   ]
  },
  {
   "cell_type": "markdown",
   "id": "imported-career",
   "metadata": {},
   "source": [
    "# Einladung zum Programmieren"
   ]
  },
  {
   "cell_type": "markdown",
   "id": "quarterly-violin",
   "metadata": {},
   "source": [
    "Vielleicht möchtest du an dieser Stelle mal selbst programmieren. Versuchen wir doch mal Aufgabe 11.7.3a aus dem Skript zu lösen.\n",
    "\n",
    "Berechne $z^2$ für $z=1+i$, trage $z$ und $z^2$ in die Gaußsche Zahlenebene ein."
   ]
  },
  {
   "cell_type": "markdown",
   "id": "smooth-purple",
   "metadata": {},
   "source": [
    "1. Definition von z"
   ]
  },
  {
   "cell_type": "code",
   "execution_count": null,
   "id": "passive-perspective",
   "metadata": {},
   "outputs": [],
   "source": [
    "z = ?"
   ]
  },
  {
   "cell_type": "markdown",
   "id": "passive-disorder",
   "metadata": {},
   "source": [
    "2. Berechnen von $z^2$ (Potenzieren in Pyton per **)"
   ]
  },
  {
   "cell_type": "code",
   "execution_count": null,
   "id": "muslim-formula",
   "metadata": {},
   "outputs": [],
   "source": [
    "result = ?"
   ]
  },
  {
   "cell_type": "markdown",
   "id": "burning-glory",
   "metadata": {},
   "source": [
    "3. Eintragen in Koordinatensystem"
   ]
  },
  {
   "cell_type": "code",
   "execution_count": null,
   "id": "engaged-zealand",
   "metadata": {},
   "outputs": [],
   "source": [
    "fig, ax = coordinate_system((-2.5, 2.5), (-2.5, 2.5))\n",
    "plot_complex_number(z, ax, \"?\")\n",
    "plot_complex_number(result, ax, \"??\")"
   ]
  }
 ],
 "metadata": {
  "kernelspec": {
   "display_name": "Python 3",
   "language": "python",
   "name": "python3"
  },
  "language_info": {
   "codemirror_mode": {
    "name": "ipython",
    "version": 3
   },
   "file_extension": ".py",
   "mimetype": "text/x-python",
   "name": "python",
   "nbconvert_exporter": "python",
   "pygments_lexer": "ipython3",
   "version": "3.7.9"
  }
 },
 "nbformat": 4,
 "nbformat_minor": 5
}
